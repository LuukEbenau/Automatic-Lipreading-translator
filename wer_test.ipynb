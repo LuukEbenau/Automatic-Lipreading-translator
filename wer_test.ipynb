{
 "cells": [
  {
   "cell_type": "code",
   "execution_count": 1,
   "metadata": {},
   "outputs": [],
   "source": [
    "import editdistance\n",
    "def wer(predict, truth):\n",
    "\tword_pairs = [(p[0].split(' '), p[1].split(' ')) for p in zip(predict, truth)]\n",
    "\twer = [1.0 * editdistance.eval(p[0], p[1]) / len(p[1]) for p in word_pairs]\n",
    "\treturn wer\n",
    "\n"
   ]
  },
  {
   "cell_type": "code",
   "execution_count": null,
   "metadata": {},
   "outputs": [],
   "source": []
  },
  {
   "cell_type": "code",
   "execution_count": 2,
   "metadata": {},
   "outputs": [
    {
     "name": "stdout",
     "output_type": "stream",
     "text": [
      "[0.75]\n",
      "0.6363636363636364\n"
     ]
    }
   ],
   "source": [
    "print(wer([\"SIL E E E SIL\"], [\"SIL LAY BLUE AT Q SEVEN AGAIN SIL\"]))\n",
    "print(editdistance.eval(\"SIL E E E SIL\", \"SIL LAY BLUE AT Q SEVEN AGAIN SIL\") / len(\"SIL LAY BLUE AT Q SEVEN AGAIN SIL\"))\n",
    "# print(wer([\"SIL I EAT A APPLE SIL\", \"SIL I EAT A APPLE SIL\"], [\"SIL I EAT A APPLL SIL\", \"SIL I EAT A PEAR SIL\"]))"
   ]
  },
  {
   "cell_type": "code",
   "execution_count": 7,
   "metadata": {},
   "outputs": [
    {
     "name": "stdout",
     "output_type": "stream",
     "text": [
      "[0.3333333333333333]\n",
      "10\n"
     ]
    }
   ],
   "source": [
    "w1 = \"SIL I EAT THEEE APPLESSS SIL\"\n",
    "w2 = \"SIL I EAT APPLE THE SIL\"\n",
    "print(wer([w1], [w2]))\n",
    "print(editdistance.eval(w1, w2) / len(w2))"
   ]
  },
  {
   "cell_type": "code",
   "execution_count": null,
   "metadata": {},
   "outputs": [],
   "source": [
    "from pesq import pesq\n",
    "\n",
    "pesq_score = pesq(8000, wav_tr_resampled, wav_pred_resampled , 'nb')"
   ]
  }
 ],
 "metadata": {
  "kernelspec": {
   "display_name": "spkr",
   "language": "python",
   "name": "python3"
  },
  "language_info": {
   "codemirror_mode": {
    "name": "ipython",
    "version": 3
   },
   "file_extension": ".py",
   "mimetype": "text/x-python",
   "name": "python",
   "nbconvert_exporter": "python",
   "pygments_lexer": "ipython3",
   "version": "3.12.3"
  }
 },
 "nbformat": 4,
 "nbformat_minor": 2
}
